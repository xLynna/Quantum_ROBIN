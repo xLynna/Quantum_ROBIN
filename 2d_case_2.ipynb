{
 "cells": [
  {
   "attachments": {},
   "cell_type": "markdown",
   "metadata": {},
   "source": [
    "## 2-Invariant function with Weighted Orinary Graph for Max Cilque"
   ]
  },
  {
   "cell_type": "code",
   "execution_count": 42,
   "metadata": {},
   "outputs": [],
   "source": [
    "import numpy as np\n",
    "import pandas as pd\n",
    "import matplotlib.pyplot as plt\n",
    "from evaluation import evaluate"
   ]
  },
  {
   "cell_type": "code",
   "execution_count": 43,
   "metadata": {},
   "outputs": [
    {
     "data": {
      "text/html": [
       "<div>\n",
       "<style scoped>\n",
       "    .dataframe tbody tr th:only-of-type {\n",
       "        vertical-align: middle;\n",
       "    }\n",
       "\n",
       "    .dataframe tbody tr th {\n",
       "        vertical-align: top;\n",
       "    }\n",
       "\n",
       "    .dataframe thead th {\n",
       "        text-align: right;\n",
       "    }\n",
       "</style>\n",
       "<table border=\"1\" class=\"dataframe\">\n",
       "  <thead>\n",
       "    <tr style=\"text-align: right;\">\n",
       "      <th></th>\n",
       "      <th>label</th>\n",
       "      <th>x0</th>\n",
       "      <th>y0</th>\n",
       "      <th>v0</th>\n",
       "      <th>x1</th>\n",
       "      <th>y1</th>\n",
       "      <th>v1</th>\n",
       "      <th>x2</th>\n",
       "      <th>y2</th>\n",
       "      <th>v2</th>\n",
       "      <th>...</th>\n",
       "      <th>v347</th>\n",
       "      <th>x348</th>\n",
       "      <th>y348</th>\n",
       "      <th>v348</th>\n",
       "      <th>x349</th>\n",
       "      <th>y349</th>\n",
       "      <th>v349</th>\n",
       "      <th>x350</th>\n",
       "      <th>y350</th>\n",
       "      <th>v350</th>\n",
       "    </tr>\n",
       "  </thead>\n",
       "  <tbody>\n",
       "    <tr>\n",
       "      <th>0</th>\n",
       "      <td>7</td>\n",
       "      <td>14</td>\n",
       "      <td>7</td>\n",
       "      <td>254</td>\n",
       "      <td>21</td>\n",
       "      <td>18</td>\n",
       "      <td>140</td>\n",
       "      <td>21</td>\n",
       "      <td>17</td>\n",
       "      <td>106</td>\n",
       "      <td>...</td>\n",
       "      <td>-1</td>\n",
       "      <td>-1</td>\n",
       "      <td>-1</td>\n",
       "      <td>-1</td>\n",
       "      <td>-1</td>\n",
       "      <td>-1</td>\n",
       "      <td>-1</td>\n",
       "      <td>-1</td>\n",
       "      <td>-1</td>\n",
       "      <td>-1</td>\n",
       "    </tr>\n",
       "    <tr>\n",
       "      <th>1</th>\n",
       "      <td>2</td>\n",
       "      <td>17</td>\n",
       "      <td>6</td>\n",
       "      <td>253</td>\n",
       "      <td>16</td>\n",
       "      <td>19</td>\n",
       "      <td>253</td>\n",
       "      <td>10</td>\n",
       "      <td>7</td>\n",
       "      <td>253</td>\n",
       "      <td>...</td>\n",
       "      <td>-1</td>\n",
       "      <td>-1</td>\n",
       "      <td>-1</td>\n",
       "      <td>-1</td>\n",
       "      <td>-1</td>\n",
       "      <td>-1</td>\n",
       "      <td>-1</td>\n",
       "      <td>-1</td>\n",
       "      <td>-1</td>\n",
       "      <td>-1</td>\n",
       "    </tr>\n",
       "    <tr>\n",
       "      <th>2</th>\n",
       "      <td>1</td>\n",
       "      <td>16</td>\n",
       "      <td>18</td>\n",
       "      <td>223</td>\n",
       "      <td>10</td>\n",
       "      <td>4</td>\n",
       "      <td>5</td>\n",
       "      <td>15</td>\n",
       "      <td>13</td>\n",
       "      <td>165</td>\n",
       "      <td>...</td>\n",
       "      <td>-1</td>\n",
       "      <td>-1</td>\n",
       "      <td>-1</td>\n",
       "      <td>-1</td>\n",
       "      <td>-1</td>\n",
       "      <td>-1</td>\n",
       "      <td>-1</td>\n",
       "      <td>-1</td>\n",
       "      <td>-1</td>\n",
       "      <td>-1</td>\n",
       "    </tr>\n",
       "    <tr>\n",
       "      <th>3</th>\n",
       "      <td>0</td>\n",
       "      <td>17</td>\n",
       "      <td>8</td>\n",
       "      <td>253</td>\n",
       "      <td>20</td>\n",
       "      <td>17</td>\n",
       "      <td>105</td>\n",
       "      <td>14</td>\n",
       "      <td>20</td>\n",
       "      <td>251</td>\n",
       "      <td>...</td>\n",
       "      <td>-1</td>\n",
       "      <td>-1</td>\n",
       "      <td>-1</td>\n",
       "      <td>-1</td>\n",
       "      <td>-1</td>\n",
       "      <td>-1</td>\n",
       "      <td>-1</td>\n",
       "      <td>-1</td>\n",
       "      <td>-1</td>\n",
       "      <td>-1</td>\n",
       "    </tr>\n",
       "    <tr>\n",
       "      <th>4</th>\n",
       "      <td>4</td>\n",
       "      <td>18</td>\n",
       "      <td>17</td>\n",
       "      <td>18</td>\n",
       "      <td>10</td>\n",
       "      <td>11</td>\n",
       "      <td>85</td>\n",
       "      <td>17</td>\n",
       "      <td>4</td>\n",
       "      <td>236</td>\n",
       "      <td>...</td>\n",
       "      <td>-1</td>\n",
       "      <td>-1</td>\n",
       "      <td>-1</td>\n",
       "      <td>-1</td>\n",
       "      <td>-1</td>\n",
       "      <td>-1</td>\n",
       "      <td>-1</td>\n",
       "      <td>-1</td>\n",
       "      <td>-1</td>\n",
       "      <td>-1</td>\n",
       "    </tr>\n",
       "  </tbody>\n",
       "</table>\n",
       "<p>5 rows × 1054 columns</p>\n",
       "</div>"
      ],
      "text/plain": [
       "   label  x0  y0   v0  x1  y1   v1  x2  y2   v2  ...  v347  x348  y348  v348  \\\n",
       "0      7  14   7  254  21  18  140  21  17  106  ...    -1    -1    -1    -1   \n",
       "1      2  17   6  253  16  19  253  10   7  253  ...    -1    -1    -1    -1   \n",
       "2      1  16  18  223  10   4    5  15  13  165  ...    -1    -1    -1    -1   \n",
       "3      0  17   8  253  20  17  105  14  20  251  ...    -1    -1    -1    -1   \n",
       "4      4  18  17   18  10  11   85  17   4  236  ...    -1    -1    -1    -1   \n",
       "\n",
       "   x349  y349  v349  x350  y350  v350  \n",
       "0    -1    -1    -1    -1    -1    -1  \n",
       "1    -1    -1    -1    -1    -1    -1  \n",
       "2    -1    -1    -1    -1    -1    -1  \n",
       "3    -1    -1    -1    -1    -1    -1  \n",
       "4    -1    -1    -1    -1    -1    -1  \n",
       "\n",
       "[5 rows x 1054 columns]"
      ]
     },
     "execution_count": 43,
     "metadata": {},
     "output_type": "execute_result"
    }
   ],
   "source": [
    "mnist = pd.read_csv('MNIST_dataset/test.csv')\n",
    "mnist.head(5)"
   ]
  },
  {
   "cell_type": "code",
   "execution_count": 44,
   "metadata": {},
   "outputs": [],
   "source": [
    "mnist = mnist.drop('label', axis = 1)"
   ]
  },
  {
   "cell_type": "code",
   "execution_count": 45,
   "metadata": {},
   "outputs": [],
   "source": [
    "size = 100"
   ]
  },
  {
   "cell_type": "code",
   "execution_count": 46,
   "metadata": {},
   "outputs": [
    {
     "data": {
      "text/plain": [
       "[<matplotlib.lines.Line2D at 0x7f7e884b81f0>]"
      ]
     },
     "execution_count": 46,
     "metadata": {},
     "output_type": "execute_result"
    },
    {
     "data": {
      "image/png": "[encoded data removed]",
      "text/plain": [
       "<Figure size 640x480 with 1 Axes>"
      ]
     },
     "metadata": {},
     "output_type": "display_data"
    }
   ],
   "source": [
    "mapping = np.arange(3*size).reshape(-1, 3)\n",
    "inds = mapping[:, :2]\n",
    "val_ind = mapping[:, 2]\n",
    "img = np.zeros((28, 28))\n",
    "fisrt_img = mnist.to_numpy()[1]\n",
    "coordinates = fisrt_img[inds]\n",
    "img[coordinates[:,0], coordinates[:, 1]] = 1\n",
    "plt.plot(coordinates[:,0], coordinates[:, 1], '+',color='red',)\n"
   ]
  },
  {
   "cell_type": "code",
   "execution_count": 47,
   "metadata": {},
   "outputs": [],
   "source": [
    "mu, sigma = 0, 0.1 # mean and standard deviation\n",
    "s1 = np.random.normal(mu, sigma, size)\n",
    "s2 = np.random.normal(mu, sigma, size)"
   ]
  },
  {
   "cell_type": "code",
   "execution_count": 48,
   "metadata": {},
   "outputs": [],
   "source": [
    "sqrt2d2 = np.sqrt(2)/2\n",
    "R = np.array([[sqrt2d2, sqrt2d2], [-sqrt2d2, sqrt2d2]])\n",
    "t = np.array([0.5, 0.5])\n",
    "noise = np.hstack((s1.reshape(-1, 1), s2.reshape(-1, 1)))"
   ]
  },
  {
   "cell_type": "code",
   "execution_count": 49,
   "metadata": {},
   "outputs": [],
   "source": [
    "from problem_instance.twoD_point_cloud_registeration import model, pairwise_compatibility_value, definite_graph, area_invariant_compatibility_test"
   ]
  },
  {
   "cell_type": "code",
   "execution_count": 50,
   "metadata": {},
   "outputs": [
    {
     "data": {
      "text/plain": [
       "[<matplotlib.lines.Line2D at 0x7f7ec9f43580>]"
      ]
     },
     "execution_count": 50,
     "metadata": {},
     "output_type": "execute_result"
    },
    {
     "data": {
      "image/png": "[encoded data removed]",
      "text/plain": [
       "<Figure size 640x480 with 1 Axes>"
      ]
     },
     "metadata": {},
     "output_type": "display_data"
    }
   ],
   "source": [
    "new_coord = model(R, t, coordinates, noise)\n",
    "plt.plot(coordinates[:,0], coordinates[:, 1], '+', color='red')\n",
    "plt.plot(new_coord[:,0], new_coord[:, 1], '+', color='blue',)"
   ]
  },
  {
   "cell_type": "code",
   "execution_count": 51,
   "metadata": {},
   "outputs": [],
   "source": [
    "outlier_rate = 0.2\n",
    "num_out = int(size * outlier_rate)"
   ]
  },
  {
   "cell_type": "code",
   "execution_count": 52,
   "metadata": {},
   "outputs": [],
   "source": [
    "outliers = 28 * np.random.rand(num_out, 2) # 20 outliers points in 2D\n",
    "outliers_cord_t = model(R, t, outliers, np.zeros((num_out, 2)))"
   ]
  },
  {
   "cell_type": "code",
   "execution_count": 53,
   "metadata": {},
   "outputs": [],
   "source": [
    "new_coord_with_outliers = np.vstack((new_coord[:-num_out], outliers_cord_t))\n",
    "inlier_mask = np.zeros(size, dtype=bool)\n",
    "inlier_mask[:-num_out] = True"
   ]
  },
  {
   "cell_type": "code",
   "execution_count": 54,
   "metadata": {},
   "outputs": [
    {
     "data": {
      "text/plain": [
       "[<matplotlib.lines.Line2D at 0x7f7e88751030>]"
      ]
     },
     "execution_count": 54,
     "metadata": {},
     "output_type": "execute_result"
    },
    {
     "data": {
      "image/png": "[encoded data removed]",
      "text/plain": [
       "<Figure size 640x480 with 1 Axes>"
      ]
     },
     "metadata": {},
     "output_type": "display_data"
    }
   ],
   "source": [
    "plt.plot(new_coord_with_outliers[:,0], new_coord_with_outliers[:, 1], 'x', color='blue')\n",
    "plt.plot(new_coord[:,0], new_coord[:, 1], '+', color='red')"
   ]
  },
  {
   "cell_type": "code",
   "execution_count": 55,
   "metadata": {},
   "outputs": [],
   "source": [
    "perm = np.random.permutation(size)\n",
    "new_coord_with_outliers = new_coord_with_outliers[perm]\n",
    "coordinates = coordinates[perm]\n",
    "inlier_perm_mask = inlier_mask[perm]"
   ]
  },
  {
   "cell_type": "code",
   "execution_count": 56,
   "metadata": {},
   "outputs": [],
   "source": [
    "G = pairwise_compatibility_value(coordinates, new_coord_with_outliers)"
   ]
  },
  {
   "cell_type": "code",
   "execution_count": 57,
   "metadata": {},
   "outputs": [],
   "source": [
    "from QUBO_formulation.qubo import solve_graph, solve_weighted_graph, definite_graph_to_qubo, weighted_graph_to_qubo, n_invariant_ordinary_graph_to_qubo"
   ]
  },
  {
   "cell_type": "code",
   "execution_count": 58,
   "metadata": {},
   "outputs": [],
   "source": [
    "sl = solve_weighted_graph(G, \"dwave_annealing\", 1)\n",
    "sol = np.argwhere(sl == 1).reshape(-1)"
   ]
  },
  {
   "cell_type": "code",
   "execution_count": 59,
   "metadata": {},
   "outputs": [
    {
     "name": "stdout",
     "output_type": "stream",
     "text": [
      "Overall Accuracy:  0.97\n",
      "Inlier Preserved Rate:  0.9625\n",
      "Outlier Rejected Rate:  1.0\n"
     ]
    },
    {
     "data": {
      "image/png": "[encoded data removed]",
      "text/plain": [
       "<Figure size 640x480 with 1 Axes>"
      ]
     },
     "metadata": {},
     "output_type": "display_data"
    }
   ],
   "source": [
    "plt.plot(new_coord_with_outliers[sol, 0], new_coord_with_outliers[sol, 1], 'x', color='blue')\n",
    "plt.plot(new_coord[:,0], new_coord[:, 1], '+', color='red')\n",
    "evaluate(size, inlier_perm_mask, sl)"
   ]
  },
  {
   "cell_type": "code",
   "execution_count": 60,
   "metadata": {},
   "outputs": [
    {
     "name": "stdout",
     "output_type": "stream",
     "text": [
      "Gurobi Optimizer version 10.0.1 build v10.0.1rc0 (mac64[rosetta2])\n",
      "\n",
      "CPU model: Apple M1 Pro\n",
      "Thread count: 8 physical cores, 8 logical processors, using up to 8 threads\n",
      "\n",
      "Optimize a model with 0 rows, 100 columns and 0 nonzeros\n",
      "Model fingerprint: 0x01f74f01\n",
      "Model has 4949 quadratic objective terms\n",
      "Variable types: 0 continuous, 100 integer (100 binary)\n",
      "Coefficient statistics:\n",
      "  Matrix range     [0e+00, 0e+00]\n",
      "  Objective range  [1e+00, 1e+00]\n",
      "  QObjective range [9e-06, 4e+00]\n",
      "  Bounds range     [1e+00, 1e+00]\n",
      "  RHS range        [0e+00, 0e+00]\n",
      "Found heuristic solution: objective 0.0000000\n",
      "Found heuristic solution: objective -51.6908488\n",
      "Presolve time: 0.01s\n",
      "Presolved: 0 rows, 100 columns, 0 nonzeros\n",
      "Presolved model has 5049 quadratic objective terms\n",
      "Variable types: 0 continuous, 100 integer (100 binary)\n",
      "\n",
      "Root relaxation: objective -1.139141e+02, 117 iterations, 0.00 seconds (0.00 work units)\n",
      "\n",
      "    Nodes    |    Current Node    |     Objective Bounds      |     Work\n",
      " Expl Unexpl |  Obj  Depth IntInf | Incumbent    BestBd   Gap | It/Node Time\n",
      "\n",
      "     0     0 -113.91412    0   84  -51.69085 -100.00000  93.5%     -    0s\n",
      "     0     0 -113.91412    0   84  -51.69085 -100.00000  93.5%     -    0s\n",
      "     0     2 -113.91412    0   84  -51.69085 -100.00000  93.5%     -    0s\n",
      "\n",
      "Cutting planes:\n",
      "  MIR: 73\n",
      "  Flow cover: 2\n",
      "  Relax-and-lift: 10\n",
      "\n",
      "Explored 1545 nodes (3614 simplex iterations) in 0.26 seconds (0.36 work units)\n",
      "Thread count was 8 (of 8 available processors)\n",
      "\n",
      "Solution count 2: -51.6908 0 \n",
      "No other solutions better than -51.6908\n",
      "\n",
      "Optimal solution found (tolerance 1.00e-04)\n",
      "Best objective -5.169084876216e+01, best bound -5.169084876216e+01, gap 0.0000%\n"
     ]
    },
    {
     "data": {
      "text/plain": [
       "[<matplotlib.lines.Line2D at 0x7f7e8842a500>]"
      ]
     },
     "execution_count": 60,
     "metadata": {},
     "output_type": "execute_result"
    },
    {
     "data": {
      "image/png": "[encoded data removed]",
      "text/plain": [
       "<Figure size 640x480 with 1 Axes>"
      ]
     },
     "metadata": {},
     "output_type": "display_data"
    }
   ],
   "source": [
    "slg = solve_weighted_graph(G, \"gurobi\", 1)\n",
    "solg = np.argwhere(slg == 1).reshape(-1)\n",
    "plt.plot(new_coord_with_outliers[solg, 0], new_coord_with_outliers[solg, 1], 'x', color='blue')\n",
    "plt.plot(new_coord[:,0], new_coord[:, 1], '+', color='red')"
   ]
  },
  {
   "cell_type": "code",
   "execution_count": 61,
   "metadata": {},
   "outputs": [
    {
     "name": "stdout",
     "output_type": "stream",
     "text": [
      "Overall Accuracy:  0.97\n",
      "Inlier Preserved Rate:  0.9625\n",
      "Outlier Rejected Rate:  1.0\n"
     ]
    }
   ],
   "source": [
    "evaluate(size, inlier_perm_mask, slg)"
   ]
  }
 ],
 "metadata": {
  "kernelspec": {
   "display_name": "ocean",
   "language": "python",
   "name": "python3"
  },
  "language_info": {
   "codemirror_mode": {
    "name": "ipython",
    "version": 3
   },
   "file_extension": ".py",
   "mimetype": "text/x-python",
   "name": "python",
   "nbconvert_exporter": "python",
   "pygments_lexer": "ipython3",
   "version": "3.10.9"
  },
  "orig_nbformat": 4
 },
 "nbformat": 4,
 "nbformat_minor": 2
}
