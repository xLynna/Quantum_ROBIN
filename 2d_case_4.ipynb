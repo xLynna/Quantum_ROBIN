{
 "cells": [
  {
   "attachments": {},
   "cell_type": "markdown",
   "metadata": {},
   "source": [
    "## 3-Invariant function with HyperGraph for Hyper Max Cilque"
   ]
  },
  {
   "cell_type": "code",
   "execution_count": 1,
   "metadata": {},
   "outputs": [],
   "source": [
    "import numpy as np\n",
    "import pandas as pd\n",
    "import matplotlib.pyplot as plt\n",
    "from QUBO_formulation.qubo import solve_graph, solve_weighted_graph, definite_graph_to_qubo, weighted_graph_to_qubo, n_invariant_ordinary_graph_to_qubo, hypergraph_to_qubo\n",
    "from Solvers.solver import solve_qubo\n",
    "from evaluation import evaluate"
   ]
  },
  {
   "cell_type": "code",
   "execution_count": 2,
   "metadata": {},
   "outputs": [
    {
     "data": {
      "text/html": [
       "<div>\n",
       "<style scoped>\n",
       "    .dataframe tbody tr th:only-of-type {\n",
       "        vertical-align: middle;\n",
       "    }\n",
       "\n",
       "    .dataframe tbody tr th {\n",
       "        vertical-align: top;\n",
       "    }\n",
       "\n",
       "    .dataframe thead th {\n",
       "        text-align: right;\n",
       "    }\n",
       "</style>\n",
       "<table border=\"1\" class=\"dataframe\">\n",
       "  <thead>\n",
       "    <tr style=\"text-align: right;\">\n",
       "      <th></th>\n",
       "      <th>label</th>\n",
       "      <th>x0</th>\n",
       "      <th>y0</th>\n",
       "      <th>v0</th>\n",
       "      <th>x1</th>\n",
       "      <th>y1</th>\n",
       "      <th>v1</th>\n",
       "      <th>x2</th>\n",
       "      <th>y2</th>\n",
       "      <th>v2</th>\n",
       "      <th>...</th>\n",
       "      <th>v347</th>\n",
       "      <th>x348</th>\n",
       "      <th>y348</th>\n",
       "      <th>v348</th>\n",
       "      <th>x349</th>\n",
       "      <th>y349</th>\n",
       "      <th>v349</th>\n",
       "      <th>x350</th>\n",
       "      <th>y350</th>\n",
       "      <th>v350</th>\n",
       "    </tr>\n",
       "  </thead>\n",
       "  <tbody>\n",
       "    <tr>\n",
       "      <th>0</th>\n",
       "      <td>7</td>\n",
       "      <td>14</td>\n",
       "      <td>7</td>\n",
       "      <td>254</td>\n",
       "      <td>21</td>\n",
       "      <td>18</td>\n",
       "      <td>140</td>\n",
       "      <td>21</td>\n",
       "      <td>17</td>\n",
       "      <td>106</td>\n",
       "      <td>...</td>\n",
       "      <td>-1</td>\n",
       "      <td>-1</td>\n",
       "      <td>-1</td>\n",
       "      <td>-1</td>\n",
       "      <td>-1</td>\n",
       "      <td>-1</td>\n",
       "      <td>-1</td>\n",
       "      <td>-1</td>\n",
       "      <td>-1</td>\n",
       "      <td>-1</td>\n",
       "    </tr>\n",
       "    <tr>\n",
       "      <th>1</th>\n",
       "      <td>2</td>\n",
       "      <td>17</td>\n",
       "      <td>6</td>\n",
       "      <td>253</td>\n",
       "      <td>16</td>\n",
       "      <td>19</td>\n",
       "      <td>253</td>\n",
       "      <td>10</td>\n",
       "      <td>7</td>\n",
       "      <td>253</td>\n",
       "      <td>...</td>\n",
       "      <td>-1</td>\n",
       "      <td>-1</td>\n",
       "      <td>-1</td>\n",
       "      <td>-1</td>\n",
       "      <td>-1</td>\n",
       "      <td>-1</td>\n",
       "      <td>-1</td>\n",
       "      <td>-1</td>\n",
       "      <td>-1</td>\n",
       "      <td>-1</td>\n",
       "    </tr>\n",
       "    <tr>\n",
       "      <th>2</th>\n",
       "      <td>1</td>\n",
       "      <td>16</td>\n",
       "      <td>18</td>\n",
       "      <td>223</td>\n",
       "      <td>10</td>\n",
       "      <td>4</td>\n",
       "      <td>5</td>\n",
       "      <td>15</td>\n",
       "      <td>13</td>\n",
       "      <td>165</td>\n",
       "      <td>...</td>\n",
       "      <td>-1</td>\n",
       "      <td>-1</td>\n",
       "      <td>-1</td>\n",
       "      <td>-1</td>\n",
       "      <td>-1</td>\n",
       "      <td>-1</td>\n",
       "      <td>-1</td>\n",
       "      <td>-1</td>\n",
       "      <td>-1</td>\n",
       "      <td>-1</td>\n",
       "    </tr>\n",
       "    <tr>\n",
       "      <th>3</th>\n",
       "      <td>0</td>\n",
       "      <td>17</td>\n",
       "      <td>8</td>\n",
       "      <td>253</td>\n",
       "      <td>20</td>\n",
       "      <td>17</td>\n",
       "      <td>105</td>\n",
       "      <td>14</td>\n",
       "      <td>20</td>\n",
       "      <td>251</td>\n",
       "      <td>...</td>\n",
       "      <td>-1</td>\n",
       "      <td>-1</td>\n",
       "      <td>-1</td>\n",
       "      <td>-1</td>\n",
       "      <td>-1</td>\n",
       "      <td>-1</td>\n",
       "      <td>-1</td>\n",
       "      <td>-1</td>\n",
       "      <td>-1</td>\n",
       "      <td>-1</td>\n",
       "    </tr>\n",
       "    <tr>\n",
       "      <th>4</th>\n",
       "      <td>4</td>\n",
       "      <td>18</td>\n",
       "      <td>17</td>\n",
       "      <td>18</td>\n",
       "      <td>10</td>\n",
       "      <td>11</td>\n",
       "      <td>85</td>\n",
       "      <td>17</td>\n",
       "      <td>4</td>\n",
       "      <td>236</td>\n",
       "      <td>...</td>\n",
       "      <td>-1</td>\n",
       "      <td>-1</td>\n",
       "      <td>-1</td>\n",
       "      <td>-1</td>\n",
       "      <td>-1</td>\n",
       "      <td>-1</td>\n",
       "      <td>-1</td>\n",
       "      <td>-1</td>\n",
       "      <td>-1</td>\n",
       "      <td>-1</td>\n",
       "    </tr>\n",
       "  </tbody>\n",
       "</table>\n",
       "<p>5 rows × 1054 columns</p>\n",
       "</div>"
      ],
      "text/plain": [
       "   label  x0  y0   v0  x1  y1   v1  x2  y2   v2  ...  v347  x348  y348  v348  \\\n",
       "0      7  14   7  254  21  18  140  21  17  106  ...    -1    -1    -1    -1   \n",
       "1      2  17   6  253  16  19  253  10   7  253  ...    -1    -1    -1    -1   \n",
       "2      1  16  18  223  10   4    5  15  13  165  ...    -1    -1    -1    -1   \n",
       "3      0  17   8  253  20  17  105  14  20  251  ...    -1    -1    -1    -1   \n",
       "4      4  18  17   18  10  11   85  17   4  236  ...    -1    -1    -1    -1   \n",
       "\n",
       "   x349  y349  v349  x350  y350  v350  \n",
       "0    -1    -1    -1    -1    -1    -1  \n",
       "1    -1    -1    -1    -1    -1    -1  \n",
       "2    -1    -1    -1    -1    -1    -1  \n",
       "3    -1    -1    -1    -1    -1    -1  \n",
       "4    -1    -1    -1    -1    -1    -1  \n",
       "\n",
       "[5 rows x 1054 columns]"
      ]
     },
     "execution_count": 2,
     "metadata": {},
     "output_type": "execute_result"
    }
   ],
   "source": [
    "mnist = pd.read_csv('MNIST_dataset/test.csv')\n",
    "mnist.head(5)"
   ]
  },
  {
   "cell_type": "code",
   "execution_count": 3,
   "metadata": {},
   "outputs": [],
   "source": [
    "mnist = mnist.drop('label', axis = 1)"
   ]
  },
  {
   "cell_type": "code",
   "execution_count": 4,
   "metadata": {},
   "outputs": [],
   "source": [
    "size = 20"
   ]
  },
  {
   "cell_type": "code",
   "execution_count": 5,
   "metadata": {},
   "outputs": [
    {
     "data": {
      "text/plain": [
       "[<matplotlib.lines.Line2D at 0x7ff70829a470>]"
      ]
     },
     "execution_count": 5,
     "metadata": {},
     "output_type": "execute_result"
    },
    {
     "data": {
      "image/png": "[encoded data removed]",
      "text/plain": [
       "<Figure size 640x480 with 1 Axes>"
      ]
     },
     "metadata": {},
     "output_type": "display_data"
    }
   ],
   "source": [
    "mapping = np.arange(3*size).reshape(-1, 3)\n",
    "inds = mapping[:, :2]\n",
    "val_ind = mapping[:, 2]\n",
    "img = np.zeros((28, 28))\n",
    "fisrt_img = mnist.to_numpy()[1]\n",
    "coordinates = fisrt_img[inds]\n",
    "img[coordinates[:,0], coordinates[:, 1]] = 1\n",
    "plt.plot(coordinates[:,0], coordinates[:, 1], '+',color='red',)\n"
   ]
  },
  {
   "cell_type": "code",
   "execution_count": 6,
   "metadata": {},
   "outputs": [],
   "source": [
    "mu, sigma = 0, 0.1 # mean and standard deviation\n",
    "s1 = np.random.normal(mu, sigma, size)\n",
    "s2 = np.random.normal(mu, sigma, size)"
   ]
  },
  {
   "cell_type": "code",
   "execution_count": 7,
   "metadata": {},
   "outputs": [],
   "source": [
    "sqrt2d2 = np.sqrt(2)/2\n",
    "R = np.eye(2) #np.array([[sqrt2d2, sqrt2d2], [-sqrt2d2, sqrt2d2]])\n",
    "t = np.array([0, 0])\n",
    "noise = np.hstack((s1.reshape(-1, 1), s2.reshape(-1, 1)))"
   ]
  },
  {
   "cell_type": "code",
   "execution_count": 8,
   "metadata": {},
   "outputs": [
    {
     "name": "stdout",
     "output_type": "stream",
     "text": [
      "(0.7200000000000001, 1.32)\n"
     ]
    }
   ],
   "source": [
    "from problem_instance.twoD_point_cloud_registeration import model, pairwise_compatibility_value, definite_graph, area_invariant_compatibility_test"
   ]
  },
  {
   "cell_type": "code",
   "execution_count": 9,
   "metadata": {},
   "outputs": [
    {
     "data": {
      "text/plain": [
       "[<matplotlib.lines.Line2D at 0x7ff6f8120400>]"
      ]
     },
     "execution_count": 9,
     "metadata": {},
     "output_type": "execute_result"
    },
    {
     "data": {
      "image/png": "[encoded data removed]",
      "text/plain": [
       "<Figure size 640x480 with 1 Axes>"
      ]
     },
     "metadata": {},
     "output_type": "display_data"
    }
   ],
   "source": [
    "new_coord = model(R, t, coordinates, noise)\n",
    "plt.plot(coordinates[:,0], coordinates[:, 1], '+', color='red')\n",
    "plt.plot(new_coord[:,0], new_coord[:, 1], '+', color='blue',)"
   ]
  },
  {
   "cell_type": "code",
   "execution_count": 10,
   "metadata": {},
   "outputs": [],
   "source": [
    "outlier_rate = 0.1\n",
    "num_out = int(outlier_rate * size)"
   ]
  },
  {
   "cell_type": "code",
   "execution_count": 11,
   "metadata": {},
   "outputs": [],
   "source": [
    "outliers = 28 * np.random.rand(num_out, 2) # 20 outliers points in 2D\n",
    "outliers_cord_t = model(R, t, outliers, np.zeros((num_out, 2)))"
   ]
  },
  {
   "cell_type": "code",
   "execution_count": 12,
   "metadata": {},
   "outputs": [],
   "source": [
    "new_coord_with_outliers = np.vstack((new_coord[:-num_out], outliers_cord_t))\n",
    "inlier_mask = np.zeros(size, dtype=bool)\n",
    "inlier_mask[:-num_out] = True"
   ]
  },
  {
   "cell_type": "code",
   "execution_count": 13,
   "metadata": {},
   "outputs": [
    {
     "data": {
      "text/plain": [
       "[<matplotlib.lines.Line2D at 0x7ff7082b41c0>]"
      ]
     },
     "execution_count": 13,
     "metadata": {},
     "output_type": "execute_result"
    },
    {
     "data": {
      "image/png": "[encoded data removed]",
      "text/plain": [
       "<Figure size 640x480 with 1 Axes>"
      ]
     },
     "metadata": {},
     "output_type": "display_data"
    }
   ],
   "source": [
    "plt.plot(new_coord_with_outliers[:,0], new_coord_with_outliers[:, 1], 'x', color='blue')\n",
    "plt.plot(new_coord[:,0], new_coord[:, 1], '+', color='red')"
   ]
  },
  {
   "cell_type": "code",
   "execution_count": 14,
   "metadata": {},
   "outputs": [],
   "source": [
    "perm = np.random.permutation(size)\n",
    "new_coord_with_outliers = new_coord_with_outliers[perm]\n",
    "coordinates = coordinates[perm]\n",
    "inlier_perm_mask = inlier_mask[perm]"
   ]
  },
  {
   "attachments": {},
   "cell_type": "markdown",
   "metadata": {},
   "source": [
    "## N-invariant"
   ]
  },
  {
   "cell_type": "code",
   "execution_count": 15,
   "metadata": {},
   "outputs": [],
   "source": [
    "H = area_invariant_compatibility_test(coordinates, new_coord_with_outliers, 0.79, fail_edge=True)"
   ]
  },
  {
   "cell_type": "code",
   "execution_count": 17,
   "metadata": {},
   "outputs": [],
   "source": [
    "Q, b = hypergraph_to_qubo(H, 1)"
   ]
  },
  {
   "cell_type": "code",
   "execution_count": 18,
   "metadata": {},
   "outputs": [
    {
     "name": "stdout",
     "output_type": "stream",
     "text": [
      "(20,)\n"
     ]
    },
    {
     "data": {
      "text/plain": [
       "[<matplotlib.lines.Line2D at 0x7ff6f81a6650>]"
      ]
     },
     "execution_count": 18,
     "metadata": {},
     "output_type": "execute_result"
    },
    {
     "data": {
      "image/png": "[encoded data removed]",
      "text/plain": [
       "<Figure size 640x480 with 1 Axes>"
      ]
     },
     "metadata": {},
     "output_type": "display_data"
    }
   ],
   "source": [
    "sl = solve_qubo(Q, b, \"dwave_annealing\")[:size]\n",
    "sol = np.argwhere(sl == 1).reshape(-1)\n",
    "print(sol.shape)\n",
    "plt.plot(new_coord_with_outliers[sol, 0], new_coord_with_outliers[sol, 1], 'x', color='blue')\n",
    "plt.plot(new_coord[:,0], new_coord[:, 1], '+', color='red')"
   ]
  },
  {
   "cell_type": "code",
   "execution_count": 19,
   "metadata": {},
   "outputs": [
    {
     "name": "stdout",
     "output_type": "stream",
     "text": [
      "Overall Accuracy:  0.9\n",
      "Inlier Preserved Rate:  1.0\n",
      "Outlier Rejected Rate:  0.0\n"
     ]
    }
   ],
   "source": [
    "evaluate(size, inlier_perm_mask, sl)"
   ]
  },
  {
   "cell_type": "code",
   "execution_count": 24,
   "metadata": {},
   "outputs": [
    {
     "name": "stdout",
     "output_type": "stream",
     "text": [
      "(12,)\n",
      "Overall Accuracy:  0.7\n",
      "Inlier Preserved Rate:  0.6666666666666666\n",
      "Outlier Rejected Rate:  1.0\n"
     ]
    },
    {
     "data": {
      "image/png": "[encoded data removed]",
      "text/plain": [
       "<Figure size 640x480 with 1 Axes>"
      ]
     },
     "metadata": {},
     "output_type": "display_data"
    }
   ],
   "source": [
    "Q, b = hypergraph_to_qubo(H, 2)\n",
    "sl = solve_qubo(Q, b, \"dwave_annealing\")[:size]\n",
    "sol = np.argwhere(sl == 1).reshape(-1)\n",
    "print(sol.shape)\n",
    "plt.plot(new_coord_with_outliers[sol, 0], new_coord_with_outliers[sol, 1], 'x', color='blue')\n",
    "plt.plot(new_coord[:,0], new_coord[:, 1], '+', color='red')\n",
    "evaluate(size, inlier_perm_mask, sl)"
   ]
  },
  {
   "cell_type": "code",
   "execution_count": 21,
   "metadata": {},
   "outputs": [
    {
     "name": "stdout",
     "output_type": "stream",
     "text": [
      "Restricted license - for non-production use only - expires 2024-10-28\n",
      "Gurobi Optimizer version 10.0.1 build v10.0.1rc0 (mac64[rosetta2])\n",
      "\n",
      "CPU model: Apple M1 Pro\n",
      "Thread count: 8 physical cores, 8 logical processors, using up to 8 threads\n",
      "\n"
     ]
    },
    {
     "ename": "GurobiError",
     "evalue": "Model too large for size-limited license; visit https://www.gurobi.com/free-trial for a full license",
     "output_type": "error",
     "traceback": [
      "\u001b[0;31m---------------------------------------------------------------------------\u001b[0m",
      "\u001b[0;31mGurobiError\u001b[0m                               Traceback (most recent call last)",
      "Cell \u001b[0;32mIn[21], line 1\u001b[0m\n\u001b[0;32m----> 1\u001b[0m slg \u001b[39m=\u001b[39m solve_qubo(Q, b, \u001b[39m\"\u001b[39;49m\u001b[39mgurobi\u001b[39;49m\u001b[39m\"\u001b[39;49m)\n\u001b[1;32m      2\u001b[0m solg \u001b[39m=\u001b[39m np\u001b[39m.\u001b[39margwhere(slg \u001b[39m==\u001b[39m \u001b[39m1\u001b[39m)\u001b[39m.\u001b[39mreshape(\u001b[39m-\u001b[39m\u001b[39m1\u001b[39m)\n\u001b[1;32m      3\u001b[0m \u001b[39mprint\u001b[39m(solg\u001b[39m.\u001b[39mshape)\n",
      "File \u001b[0;32m~/Collections/qcv/Quantum_ROBIN/Solvers/solver.py:35\u001b[0m, in \u001b[0;36msolve_qubo\u001b[0;34m(Q, bias, solver)\u001b[0m\n\u001b[1;32m     32\u001b[0m   Q, bias \u001b[39m=\u001b[39m _ising_format(Q, bias)\n\u001b[1;32m     34\u001b[0m \u001b[39mif\u001b[39;00m solver \u001b[39m==\u001b[39m \u001b[39m\"\u001b[39m\u001b[39mgurobi\u001b[39m\u001b[39m\"\u001b[39m:\n\u001b[0;32m---> 35\u001b[0m   \u001b[39mreturn\u001b[39;00m gurobi_solver(Q, bias)\n\u001b[1;32m     36\u001b[0m \u001b[39melif\u001b[39;00m solver \u001b[39m==\u001b[39m \u001b[39m\"\u001b[39m\u001b[39mdwave_exact\u001b[39m\u001b[39m\"\u001b[39m:\n\u001b[1;32m     37\u001b[0m   \u001b[39mreturn\u001b[39;00m dwave_exact_solver(Q, bias)\n",
      "File \u001b[0;32m~/Collections/qcv/Quantum_ROBIN/Solvers/gurobi_solver.py:17\u001b[0m, in \u001b[0;36mgurobi_solver\u001b[0;34m(Q, bias)\u001b[0m\n\u001b[1;32m     15\u001b[0m \u001b[39mdef\u001b[39;00m \u001b[39mgurobi_solver\u001b[39m(Q, bias):\n\u001b[1;32m     16\u001b[0m   model \u001b[39m=\u001b[39m _init_model(Q, bias)\n\u001b[0;32m---> 17\u001b[0m   model\u001b[39m.\u001b[39;49moptimize()\n\u001b[1;32m     18\u001b[0m   \u001b[39mif\u001b[39;00m model\u001b[39m.\u001b[39mstatus \u001b[39m==\u001b[39m gp\u001b[39m.\u001b[39mGRB\u001b[39m.\u001b[39mOPTIMAL:\n\u001b[1;32m     19\u001b[0m     \u001b[39mreturn\u001b[39;00m np\u001b[39m.\u001b[39marray([x\u001b[39m.\u001b[39mX \u001b[39mfor\u001b[39;00m x \u001b[39min\u001b[39;00m model\u001b[39m.\u001b[39mgetVars()])\u001b[39m.\u001b[39mastype(\u001b[39mint\u001b[39m)\n",
      "File \u001b[0;32msrc/gurobipy/model.pxi:875\u001b[0m, in \u001b[0;36mgurobipy.Model.optimize\u001b[0;34m()\u001b[0m\n",
      "\u001b[0;31mGurobiError\u001b[0m: Model too large for size-limited license; visit https://www.gurobi.com/free-trial for a full license"
     ]
    }
   ],
   "source": [
    "slg = solve_qubo(Q, b, \"gurobi\")\n",
    "solg = np.argwhere(slg == 1).reshape(-1)\n",
    "print(solg.shape)\n",
    "plt.plot(new_coord_with_outliers[solg, 0], new_coord_with_outliers[solg, 1], 'x', color='blue')\n",
    "plt.plot(new_coord[:,0], new_coord[:, 1], '+', color='red')"
   ]
  },
  {
   "cell_type": "code",
   "execution_count": null,
   "metadata": {},
   "outputs": [
    {
     "name": "stdout",
     "output_type": "stream",
     "text": [
      "Overall Accuracy:  0.8\n",
      "Inlier Preserved Rate:  1.0\n",
      "Outlier Rejected Rate:  0.0\n"
     ]
    }
   ],
   "source": [
    "evaluate(size, inlier_perm_mask, slg)"
   ]
  }
 ],
 "metadata": {
  "kernelspec": {
   "display_name": "ocean",
   "language": "python",
   "name": "python3"
  },
  "language_info": {
   "codemirror_mode": {
    "name": "ipython",
    "version": 3
   },
   "file_extension": ".py",
   "mimetype": "text/x-python",
   "name": "python",
   "nbconvert_exporter": "python",
   "pygments_lexer": "ipython3",
   "version": "3.10.9"
  },
  "orig_nbformat": 4
 },
 "nbformat": 4,
 "nbformat_minor": 2
}
