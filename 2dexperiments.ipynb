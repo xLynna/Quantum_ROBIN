{
 "cells": [
  {
   "cell_type": "code",
   "execution_count": 1,
   "metadata": {},
   "outputs": [],
   "source": [
    "import numpy as np\n",
    "import pandas as pd\n",
    "import matplotlib.pyplot as plt\n",
    "from evaluation import evaluate\n",
    "from problem_instance.point_cloud_registeration import model\n",
    "from pc_formulations import *\n",
    "import time"
   ]
  },
  {
   "cell_type": "code",
   "execution_count": 2,
   "metadata": {},
   "outputs": [],
   "source": [
    "mnist = pd.read_csv('MNIST_dataset/test.csv')\n",
    "mnist = mnist.drop('label', axis = 1)\n",
    "num_points = 30\n",
    "mu, sigma = 0, 0.2 # mean and standard deviation\n",
    "beta = np.sqrt(2*(5.54*sigma)**2)\n",
    "s1 = np.random.normal(mu, sigma, num_points)\n",
    "s2 = np.random.normal(mu, sigma, num_points)\n",
    "sqrt2d2 = np.sqrt(2)/2\n",
    "R = np.array([[sqrt2d2, sqrt2d2], [-sqrt2d2, sqrt2d2]])\n",
    "t = np.array([0.5, 0.5])\n",
    "noise = np.hstack((s1.reshape(-1, 1), s2.reshape(-1, 1)))"
   ]
  },
  {
   "cell_type": "code",
   "execution_count": 3,
   "metadata": {},
   "outputs": [],
   "source": [
    "mapping = np.arange(3*num_points).reshape(-1, 3)\n",
    "inds = mapping[:, :2]\n",
    "val_ind = mapping[:, 2]"
   ]
  },
  {
   "cell_type": "code",
   "execution_count": 10,
   "metadata": {},
   "outputs": [],
   "source": [
    "num_data = 10\n",
    "outrates = np.arange(0.1, 1, 0.1)\n",
    "num_outliers = (num_points * outrates).astype(int)"
   ]
  },
  {
   "cell_type": "code",
   "execution_count": 11,
   "metadata": {},
   "outputs": [],
   "source": [
    "def run(num_data, method, solver, api_key=None):\n",
    "\n",
    "  overall_acc = np.zeros(len(outrates))\n",
    "  in_pre = np.zeros(len(outrates))\n",
    "  out_rej = np.zeros(len(outrates))\n",
    "\n",
    "  for i in range(num_data):\n",
    "    cuuimg = mnist.to_numpy()[i]\n",
    "    coordinates = cuuimg[inds]\n",
    "    img = np.zeros((28, 28))\n",
    "    img[coordinates[:,0], coordinates[:, 1]] = 1\n",
    "    new_coord = model(R, t, coordinates, noise)\n",
    "\n",
    "    for j, num_outlier in enumerate(num_outliers):\n",
    "      outliers = 28 * np.random.rand(num_outlier, 2) # 20 outliers points in 2D\n",
    "      outliers_cord_t = model(R, t, outliers, np.zeros((num_outlier, 2)))\n",
    "      new_coord_with_outliers = np.vstack((new_coord[:-num_outlier], outliers_cord_t))\n",
    "      inlier_mask = np.zeros(num_points, dtype=bool)\n",
    "      inlier_mask[:-num_outlier] = True\n",
    "      perm = np.random.permutation(num_points)\n",
    "      new_coord_with_outliers = new_coord_with_outliers[perm]\n",
    "      p_coordinates = coordinates[perm]\n",
    "      inlier_perm_mask = inlier_mask[perm]\n",
    "      try:\n",
    "        start = time.time()\n",
    "        case1f_sol = method(p_coordinates, new_coord_with_outliers, beta, solver, api_key)\n",
    "        runtime += time.time() - start\n",
    "      except ValueError:\n",
    "        print(\"ValueError during {}, {}\".format(i, j))\n",
    "        continue\n",
    "      acc, ipr, orr = evaluate(num_points, inlier_perm_mask, case1f_sol, display=False)\n",
    "      overall_acc[j] += acc\n",
    "      in_pre[j] += ipr\n",
    "      out_rej[j] += orr\n",
    "  \n",
    "  return overall_acc / num_data, in_pre / num_data, out_rej / num_data"
   ]
  },
  {
   "cell_type": "code",
   "execution_count": null,
   "metadata": {},
   "outputs": [],
   "source": [
    "# How to use the run function:\n",
    "run(10, case1f, \"dwave_annealing\")\n",
    "run(10, case1f, \"gurobi\")\n",
    "run(10, case1f, \"dwave_quantum\")"
   ]
  }
 ],
 "metadata": {
  "kernelspec": {
   "display_name": "ocean",
   "language": "python",
   "name": "python3"
  },
  "language_info": {
   "codemirror_mode": {
    "name": "ipython",
    "version": 3
   },
   "file_extension": ".py",
   "mimetype": "text/x-python",
   "name": "python",
   "nbconvert_exporter": "python",
   "pygments_lexer": "ipython3",
   "version": "3.10.9"
  },
  "orig_nbformat": 4
 },
 "nbformat": 4,
 "nbformat_minor": 2
}
